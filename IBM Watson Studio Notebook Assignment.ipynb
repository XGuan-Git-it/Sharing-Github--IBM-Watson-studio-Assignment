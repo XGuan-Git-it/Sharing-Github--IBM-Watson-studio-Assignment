{
  "metadata": {
    "language_info": {
      "codemirror_mode": {
        "name": "python",
        "version": 3
      },
      "file_extension": ".py",
      "mimetype": "text/x-python",
      "name": "python",
      "nbconvert_exporter": "python",
      "pygments_lexer": "ipython3",
      "version": "3.8"
    },
    "kernelspec": {
      "name": "python",
      "display_name": "Pyolite",
      "language": "python"
    }
  },
  "nbformat_minor": 4,
  "nbformat": 4,
  "cells": [
    {
      "cell_type": "markdown",
      "source": "My Juypter Notebook on Watson Studio",
      "metadata": {}
    },
    {
      "cell_type": "markdown",
      "source": "Xiaorong Guan\nintereted in Sanction Compliance ",
      "metadata": {}
    },
    {
      "cell_type": "markdown",
      "source": "I am interested in Data Science because it contrbutes to prvide a better and effective control environement\ncan be used in gain more insights in indentifying suspicious transaction activities that involve\nsanctioned individuala or entities",
      "metadata": {}
    },
    {
      "cell_type": "markdown",
      "source": "Cell 5 should display the output of 2*8",
      "metadata": {}
    },
    {
      "cell_type": "code",
      "source": "2*8",
      "metadata": {
        "trusted": true
      },
      "execution_count": 1,
      "outputs": [
        {
          "execution_count": 1,
          "output_type": "execute_result",
          "data": {
            "text/plain": "16"
          },
          "metadata": {}
        }
      ]
    },
    {
      "cell_type": "markdown",
      "source": "This is a Horizontal list\n1. Hello\n2. How\n3. are\n4. you\n   1. Yes, I am very well\n   2. No, not too great, but Thanks. ",
      "metadata": {}
    },
    {
      "cell_type": "markdown",
      "source": "[This is Apple- Click me](http://en.wikipedia.org/wiki/Apple_inc.)\n",
      "metadata": {}
    },
    {
      "cell_type": "markdown",
      "source": "~~This is a stike through text~~",
      "metadata": {}
    },
    {
      "cell_type": "code",
      "source": "",
      "metadata": {},
      "execution_count": null,
      "outputs": []
    }
  ]
}